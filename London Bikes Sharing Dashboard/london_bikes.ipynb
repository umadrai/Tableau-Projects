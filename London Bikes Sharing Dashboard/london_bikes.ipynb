{
 "cells": [
  {
   "cell_type": "code",
   "execution_count": 8,
   "metadata": {},
   "outputs": [
    {
     "name": "stdout",
     "output_type": "stream",
     "text": [
      "Collecting pandas\n",
      "  Downloading pandas-2.2.0-cp312-cp312-win_amd64.whl.metadata (19 kB)\n",
      "Collecting numpy<2,>=1.26.0 (from pandas)\n",
      "  Downloading numpy-1.26.4-cp312-cp312-win_amd64.whl.metadata (61 kB)\n",
      "     ---------------------------------------- 0.0/61.0 kB ? eta -:--:--\n",
      "     -------------------- ------------------- 30.7/61.0 kB 1.3 MB/s eta 0:00:01\n",
      "     ---------------------------------------- 61.0/61.0 kB 1.1 MB/s eta 0:00:00\n",
      "Requirement already satisfied: python-dateutil>=2.8.2 in c:\\users\\rai\\appdata\\roaming\\python\\python312\\site-packages (from pandas) (2.8.2)\n",
      "Collecting pytz>=2020.1 (from pandas)\n",
      "  Downloading pytz-2024.1-py2.py3-none-any.whl.metadata (22 kB)\n",
      "Collecting tzdata>=2022.7 (from pandas)\n",
      "  Downloading tzdata-2024.1-py2.py3-none-any.whl.metadata (1.4 kB)\n",
      "Requirement already satisfied: six>=1.5 in c:\\users\\rai\\appdata\\roaming\\python\\python312\\site-packages (from python-dateutil>=2.8.2->pandas) (1.16.0)\n",
      "Downloading pandas-2.2.0-cp312-cp312-win_amd64.whl (11.5 MB)\n",
      "   ---------------------------------------- 0.0/11.5 MB ? eta -:--:--\n",
      "   ---------------------------------------- 0.1/11.5 MB 3.3 MB/s eta 0:00:04\n",
      "   - -------------------------------------- 0.5/11.5 MB 5.6 MB/s eta 0:00:02\n",
      "   -- ------------------------------------- 0.7/11.5 MB 5.9 MB/s eta 0:00:02\n",
      "   --- ------------------------------------ 1.0/11.5 MB 7.3 MB/s eta 0:00:02\n",
      "   ---- ----------------------------------- 1.2/11.5 MB 6.0 MB/s eta 0:00:02\n",
      "   ----- ---------------------------------- 1.7/11.5 MB 6.8 MB/s eta 0:00:02\n",
      "   ------- -------------------------------- 2.2/11.5 MB 7.3 MB/s eta 0:00:02\n",
      "   -------- ------------------------------- 2.5/11.5 MB 7.3 MB/s eta 0:00:02\n",
      "   ----------- ---------------------------- 3.2/11.5 MB 8.0 MB/s eta 0:00:02\n",
      "   ------------ --------------------------- 3.6/11.5 MB 8.3 MB/s eta 0:00:01\n",
      "   -------------- ------------------------- 4.2/11.5 MB 8.7 MB/s eta 0:00:01\n",
      "   ---------------- ----------------------- 4.6/11.5 MB 8.6 MB/s eta 0:00:01\n",
      "   ----------------- ---------------------- 5.0/11.5 MB 8.8 MB/s eta 0:00:01\n",
      "   ----------------- ---------------------- 5.1/11.5 MB 8.1 MB/s eta 0:00:01\n",
      "   ------------------ --------------------- 5.3/11.5 MB 7.8 MB/s eta 0:00:01\n",
      "   -------------------- ------------------- 5.8/11.5 MB 8.0 MB/s eta 0:00:01\n",
      "   --------------------- ------------------ 6.1/11.5 MB 8.0 MB/s eta 0:00:01\n",
      "   ---------------------- ----------------- 6.6/11.5 MB 8.1 MB/s eta 0:00:01\n",
      "   ------------------------ --------------- 7.0/11.5 MB 8.1 MB/s eta 0:00:01\n",
      "   ------------------------- -------------- 7.4/11.5 MB 8.2 MB/s eta 0:00:01\n",
      "   --------------------------- ------------ 7.8/11.5 MB 8.2 MB/s eta 0:00:01\n",
      "   ---------------------------- ----------- 8.3/11.5 MB 8.3 MB/s eta 0:00:01\n",
      "   ------------------------------ --------- 8.7/11.5 MB 8.3 MB/s eta 0:00:01\n",
      "   ------------------------------- -------- 9.2/11.5 MB 8.4 MB/s eta 0:00:01\n",
      "   --------------------------------- ------ 9.5/11.5 MB 8.3 MB/s eta 0:00:01\n",
      "   ---------------------------------- ----- 9.9/11.5 MB 8.3 MB/s eta 0:00:01\n",
      "   ------------------------------------ --- 10.3/11.5 MB 8.5 MB/s eta 0:00:01\n",
      "   ------------------------------------- -- 10.8/11.5 MB 8.7 MB/s eta 0:00:01\n",
      "   ---------------------------------------  11.2/11.5 MB 8.6 MB/s eta 0:00:01\n",
      "   ---------------------------------------- 11.5/11.5 MB 8.8 MB/s eta 0:00:00\n",
      "Downloading numpy-1.26.4-cp312-cp312-win_amd64.whl (15.5 MB)\n",
      "   ---------------------------------------- 0.0/15.5 MB ? eta -:--:--\n",
      "    --------------------------------------- 0.3/15.5 MB 5.9 MB/s eta 0:00:03\n",
      "   - -------------------------------------- 0.7/15.5 MB 9.5 MB/s eta 0:00:02\n",
      "   --- ------------------------------------ 1.2/15.5 MB 9.3 MB/s eta 0:00:02\n",
      "   --- ------------------------------------ 1.5/15.5 MB 8.8 MB/s eta 0:00:02\n",
      "   ---- ----------------------------------- 1.9/15.5 MB 8.6 MB/s eta 0:00:02\n",
      "   ----- ---------------------------------- 2.3/15.5 MB 8.0 MB/s eta 0:00:02\n",
      "   ------ --------------------------------- 2.6/15.5 MB 8.4 MB/s eta 0:00:02\n",
      "   -------- ------------------------------- 3.1/15.5 MB 8.3 MB/s eta 0:00:02\n",
      "   -------- ------------------------------- 3.4/15.5 MB 8.4 MB/s eta 0:00:02\n",
      "   --------- ------------------------------ 3.9/15.5 MB 8.5 MB/s eta 0:00:02\n",
      "   ----------- ---------------------------- 4.4/15.5 MB 8.7 MB/s eta 0:00:02\n",
      "   ------------ --------------------------- 4.8/15.5 MB 8.7 MB/s eta 0:00:02\n",
      "   ------------- -------------------------- 5.3/15.5 MB 8.9 MB/s eta 0:00:02\n",
      "   -------------- ------------------------- 5.7/15.5 MB 8.8 MB/s eta 0:00:02\n",
      "   --------------- ------------------------ 6.2/15.5 MB 9.0 MB/s eta 0:00:02\n",
      "   ----------------- ---------------------- 6.6/15.5 MB 9.0 MB/s eta 0:00:01\n",
      "   ------------------ --------------------- 7.0/15.5 MB 9.0 MB/s eta 0:00:01\n",
      "   ------------------- -------------------- 7.5/15.5 MB 9.1 MB/s eta 0:00:01\n",
      "   -------------------- ------------------- 7.9/15.5 MB 9.1 MB/s eta 0:00:01\n",
      "   --------------------- ------------------ 8.4/15.5 MB 9.1 MB/s eta 0:00:01\n",
      "   ---------------------- ----------------- 8.8/15.5 MB 9.1 MB/s eta 0:00:01\n",
      "   ----------------------- ---------------- 9.2/15.5 MB 9.1 MB/s eta 0:00:01\n",
      "   ------------------------ --------------- 9.7/15.5 MB 9.1 MB/s eta 0:00:01\n",
      "   -------------------------- ------------- 10.1/15.5 MB 9.1 MB/s eta 0:00:01\n",
      "   --------------------------- ------------ 10.6/15.5 MB 9.2 MB/s eta 0:00:01\n",
      "   ---------------------------- ----------- 10.9/15.5 MB 9.2 MB/s eta 0:00:01\n",
      "   ----------------------------- ---------- 11.4/15.5 MB 9.1 MB/s eta 0:00:01\n",
      "   ------------------------------ --------- 11.8/15.5 MB 9.4 MB/s eta 0:00:01\n",
      "   ------------------------------- -------- 12.2/15.5 MB 9.2 MB/s eta 0:00:01\n",
      "   -------------------------------- ------- 12.8/15.5 MB 9.6 MB/s eta 0:00:01\n",
      "   --------------------------------- ------ 13.2/15.5 MB 9.6 MB/s eta 0:00:01\n",
      "   ----------------------------------- ---- 13.7/15.5 MB 9.8 MB/s eta 0:00:01\n",
      "   ------------------------------------ --- 14.1/15.5 MB 9.8 MB/s eta 0:00:01\n",
      "   ------------------------------------- -- 14.4/15.5 MB 9.4 MB/s eta 0:00:01\n",
      "   -------------------------------------- - 14.9/15.5 MB 9.6 MB/s eta 0:00:01\n",
      "   ---------------------------------------  15.3/15.5 MB 9.5 MB/s eta 0:00:01\n",
      "   ---------------------------------------- 15.5/15.5 MB 9.3 MB/s eta 0:00:00\n",
      "Downloading pytz-2024.1-py2.py3-none-any.whl (505 kB)\n",
      "   ---------------------------------------- 0.0/505.5 kB ? eta -:--:--\n",
      "   --------------------------------------  501.8/505.5 kB 15.9 MB/s eta 0:00:01\n",
      "   --------------------------------------- 505.5/505.5 kB 10.5 MB/s eta 0:00:00\n",
      "Downloading tzdata-2024.1-py2.py3-none-any.whl (345 kB)\n",
      "   ---------------------------------------- 0.0/345.4 kB ? eta -:--:--\n",
      "   --------------------------------------- 345.4/345.4 kB 10.8 MB/s eta 0:00:00\n",
      "Installing collected packages: pytz, tzdata, numpy, pandas\n",
      "Successfully installed numpy-1.26.4 pandas-2.2.0 pytz-2024.1 tzdata-2024.1\n"
     ]
    },
    {
     "name": "stderr",
     "output_type": "stream",
     "text": [
      "ERROR: Could not find a version that satisfies the requirement zipfile (from versions: none)\n",
      "ERROR: No matching distribution found for zipfile\n"
     ]
    },
    {
     "name": "stdout",
     "output_type": "stream",
     "text": [
      "Collecting kaggle\n",
      "  Downloading kaggle-1.6.5.tar.gz (84 kB)\n",
      "     ---------------------------------------- 0.0/84.5 kB ? eta -:--:--\n",
      "     ---- ----------------------------------- 10.2/84.5 kB ? eta -:--:--\n",
      "     --------------------------- ---------- 61.4/84.5 kB 812.7 kB/s eta 0:00:01\n",
      "     -------------------------------------- 84.5/84.5 kB 952.4 kB/s eta 0:00:00\n",
      "  Installing build dependencies: started\n",
      "  Installing build dependencies: finished with status 'done'\n",
      "  Getting requirements to build wheel: started\n",
      "  Getting requirements to build wheel: finished with status 'done'\n",
      "  Installing backend dependencies: started\n",
      "  Installing backend dependencies: finished with status 'done'\n",
      "  Preparing metadata (pyproject.toml): started\n",
      "  Preparing metadata (pyproject.toml): finished with status 'done'\n",
      "Requirement already satisfied: six>=1.10 in c:\\users\\rai\\appdata\\roaming\\python\\python312\\site-packages (from kaggle) (1.16.0)\n",
      "Collecting certifi (from kaggle)\n",
      "  Downloading certifi-2024.2.2-py3-none-any.whl.metadata (2.2 kB)\n",
      "Requirement already satisfied: python-dateutil in c:\\users\\rai\\appdata\\roaming\\python\\python312\\site-packages (from kaggle) (2.8.2)\n",
      "Collecting requests (from kaggle)\n",
      "  Downloading requests-2.31.0-py3-none-any.whl.metadata (4.6 kB)\n",
      "Collecting tqdm (from kaggle)\n",
      "  Downloading tqdm-4.66.2-py3-none-any.whl.metadata (57 kB)\n",
      "     ---------------------------------------- 0.0/57.6 kB ? eta -:--:--\n",
      "     ---------------------------------------- 57.6/57.6 kB 3.0 MB/s eta 0:00:00\n",
      "Collecting python-slugify (from kaggle)\n",
      "  Downloading python_slugify-8.0.4-py2.py3-none-any.whl.metadata (8.5 kB)\n",
      "Collecting urllib3 (from kaggle)\n",
      "  Downloading urllib3-2.2.0-py3-none-any.whl.metadata (6.4 kB)\n",
      "Collecting bleach (from kaggle)\n",
      "  Downloading bleach-6.1.0-py3-none-any.whl.metadata (30 kB)\n",
      "Collecting webencodings (from bleach->kaggle)\n",
      "  Downloading webencodings-0.5.1-py2.py3-none-any.whl (11 kB)\n",
      "Collecting text-unidecode>=1.3 (from python-slugify->kaggle)\n",
      "  Downloading text_unidecode-1.3-py2.py3-none-any.whl (78 kB)\n",
      "     ---------------------------------------- 0.0/78.2 kB ? eta -:--:--\n",
      "     ---------------------------------------- 78.2/78.2 kB 4.5 MB/s eta 0:00:00\n",
      "Collecting charset-normalizer<4,>=2 (from requests->kaggle)\n",
      "  Downloading charset_normalizer-3.3.2-cp312-cp312-win_amd64.whl.metadata (34 kB)\n",
      "Collecting idna<4,>=2.5 (from requests->kaggle)\n",
      "  Downloading idna-3.6-py3-none-any.whl.metadata (9.9 kB)\n",
      "Requirement already satisfied: colorama in c:\\users\\rai\\appdata\\roaming\\python\\python312\\site-packages (from tqdm->kaggle) (0.4.6)\n",
      "Downloading bleach-6.1.0-py3-none-any.whl (162 kB)\n",
      "   ---------------------------------------- 0.0/162.8 kB ? eta -:--:--\n",
      "   ---------------------------------------- 162.8/162.8 kB 3.2 MB/s eta 0:00:00\n",
      "Downloading certifi-2024.2.2-py3-none-any.whl (163 kB)\n",
      "   ---------------------------------------- 0.0/163.8 kB ? eta -:--:--\n",
      "   ---------------------------------------- 163.8/163.8 kB 9.6 MB/s eta 0:00:00\n",
      "Downloading python_slugify-8.0.4-py2.py3-none-any.whl (10 kB)\n",
      "Downloading requests-2.31.0-py3-none-any.whl (62 kB)\n",
      "   ---------------------------------------- 0.0/62.6 kB ? eta -:--:--\n",
      "   ---------------------------------------- 62.6/62.6 kB ? eta 0:00:00\n",
      "Downloading urllib3-2.2.0-py3-none-any.whl (120 kB)\n",
      "   ---------------------------------------- 0.0/120.9 kB ? eta -:--:--\n",
      "   ---------------------------------------- 120.9/120.9 kB ? eta 0:00:00\n",
      "Downloading tqdm-4.66.2-py3-none-any.whl (78 kB)\n",
      "   ---------------------------------------- 0.0/78.3 kB ? eta -:--:--\n",
      "   ---------------------------------------- 78.3/78.3 kB 4.5 MB/s eta 0:00:00\n",
      "Downloading charset_normalizer-3.3.2-cp312-cp312-win_amd64.whl (100 kB)\n",
      "   ---------------------------------------- 0.0/100.4 kB ? eta -:--:--\n",
      "   ---------------------------------------- 100.4/100.4 kB 6.0 MB/s eta 0:00:00\n",
      "Downloading idna-3.6-py3-none-any.whl (61 kB)\n",
      "   ---------------------------------------- 0.0/61.6 kB ? eta -:--:--\n",
      "   ---------------------------------------- 61.6/61.6 kB 3.4 MB/s eta 0:00:00\n",
      "Building wheels for collected packages: kaggle\n",
      "  Building wheel for kaggle (pyproject.toml): started\n",
      "  Building wheel for kaggle (pyproject.toml): finished with status 'done'\n",
      "  Created wheel for kaggle: filename=kaggle-1.6.5-py3-none-any.whl size=111944 sha256=1489baa02f1182516168309dcb86130f1fca5d6dacfc2261f5e2d051bd4d454d\n",
      "  Stored in directory: c:\\users\\rai\\appdata\\local\\pip\\cache\\wheels\\68\\85\\d7\\25aefd74133237723cee3c96d5dd5450b5d8b19a59422920c1\n",
      "Successfully built kaggle\n",
      "Installing collected packages: webencodings, text-unidecode, urllib3, tqdm, python-slugify, idna, charset-normalizer, certifi, bleach, requests, kaggle\n",
      "Successfully installed bleach-6.1.0 certifi-2024.2.2 charset-normalizer-3.3.2 idna-3.6 kaggle-1.6.5 python-slugify-8.0.4 requests-2.31.0 text-unidecode-1.3 tqdm-4.66.2 urllib3-2.2.0 webencodings-0.5.1\n"
     ]
    }
   ],
   "source": [
    "# Required Packages: \n",
    "#!pip install pandas\n",
    "#!pip install zipfile\n",
    "#!pip install kaggle"
   ]
  },
  {
   "cell_type": "code",
   "execution_count": 9,
   "metadata": {},
   "outputs": [
    {
     "name": "stderr",
     "output_type": "stream",
     "text": [
      "C:\\Users\\Rai\\AppData\\Local\\Temp\\ipykernel_20196\\3962661566.py:2: DeprecationWarning: \n",
      "Pyarrow will become a required dependency of pandas in the next major release of pandas (pandas 3.0),\n",
      "(to allow more performant data types, such as the Arrow string type, and better interoperability with other libraries)\n",
      "but was not found to be installed on your system.\n",
      "If this would cause problems for you,\n",
      "please provide us feedback at https://github.com/pandas-dev/pandas/issues/54466\n",
      "        \n",
      "  import pandas as pd\n"
     ]
    }
   ],
   "source": [
    "# Importing the following packages\n",
    "import pandas as pd\n",
    "import zipfile\n",
    "import kaggle"
   ]
  },
  {
   "cell_type": "code",
   "execution_count": 3,
   "metadata": {},
   "outputs": [
    {
     "name": "stdout",
     "output_type": "stream",
     "text": [
      "london-bike-sharing-dataset.zip: Skipping, found more recently modified local copy (use --force to force download)\n"
     ]
    }
   ],
   "source": [
    "# Download the dataset from Kaggle\n",
    "!kaggle datasets download -d hmavrodiev/london-bike-sharing-dataset"
   ]
  },
  {
   "cell_type": "code",
   "execution_count": 6,
   "metadata": {},
   "outputs": [
    {
     "ename": "NameError",
     "evalue": "name 'zipfile' is not defined",
     "output_type": "error",
     "traceback": [
      "\u001b[1;31m---------------------------------------------------------------------------\u001b[0m",
      "\u001b[1;31mNameError\u001b[0m                                 Traceback (most recent call last)",
      "Cell \u001b[1;32mIn[6], line 4\u001b[0m\n\u001b[0;32m      1\u001b[0m zipfile_name \u001b[38;5;241m=\u001b[39m \u001b[38;5;124m\"\u001b[39m\u001b[38;5;124mlondon-bike-sharing-dataset.zip\u001b[39m\u001b[38;5;124m\"\u001b[39m\n\u001b[0;32m      3\u001b[0m \u001b[38;5;66;03m# Extract the file.\u001b[39;00m\n\u001b[1;32m----> 4\u001b[0m \u001b[38;5;28;01mwith\u001b[39;00m \u001b[43mzipfile\u001b[49m\u001b[38;5;241m.\u001b[39mZipFile(zipfile_name, \u001b[38;5;124m'\u001b[39m\u001b[38;5;124mr\u001b[39m\u001b[38;5;124m'\u001b[39m) \u001b[38;5;28;01mas\u001b[39;00m file:\n\u001b[0;32m      5\u001b[0m     file\u001b[38;5;241m.\u001b[39mextractall()\n",
      "\u001b[1;31mNameError\u001b[0m: name 'zipfile' is not defined"
     ]
    }
   ],
   "source": [
    "zipfile_name = \"london-bike-sharing-dataset.zip\"\n",
    "\n",
    "# Extract the file.\n",
    "with zipfile.ZipFile(zipfile_name, 'r') as file:\n",
    "    file.extractall()"
   ]
  }
 ],
 "metadata": {
  "kernelspec": {
   "display_name": "base",
   "language": "python",
   "name": "python3"
  },
  "language_info": {
   "codemirror_mode": {
    "name": "ipython",
    "version": 3
   },
   "file_extension": ".py",
   "mimetype": "text/x-python",
   "name": "python",
   "nbconvert_exporter": "python",
   "pygments_lexer": "ipython3",
   "version": "3.12.2"
  }
 },
 "nbformat": 4,
 "nbformat_minor": 2
}
